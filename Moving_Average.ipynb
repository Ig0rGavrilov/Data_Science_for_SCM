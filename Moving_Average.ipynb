{
 "cells": [
  {
   "cell_type": "code",
   "execution_count": 1,
   "id": "c9288d7c",
   "metadata": {},
   "outputs": [],
   "source": [
    "import numpy as np\n",
    "import pandas as pd\n",
    "import matplotlib.pyplot as plt\n",
    "\n",
    "def moving_average(d, extra_periods = 1, n=3):\n",
    "    \n",
    "    #Historical period length\n",
    "    cols = len(d)\n",
    "    \n",
    "    #Append np.nan into the demand array to cover future periods\n",
    "    \n",
    "    d = np.append(d, [np.nan]*extra_periods)\n",
    "    \n",
    "    # Define the forecast array\n",
    "    \n",
    "    f = np.full(cols + extra_periods, np.nan)\n",
    "    \n",
    "    # Ctreate all the t+1 forecast until end of historical period\n",
    "    \n",
    "    for t in range(n, cols):\n",
    "        f[t] = np.mean(d[t-n:t])\n",
    "        \n",
    "    # Forecast for all extra periods \n",
    "    f[t+1:] = np.mean(d[t-n+1:t+1])\n",
    "    \n",
    "    # Return a DataFrame with the demand, forecast and error \n",
    "    \n",
    "    df = pd.DataFrame.from_dict({'Demand': d, 'Forecast': f, 'Error':d-f})\n",
    "    \n",
    "    return df"
   ]
  },
  {
   "cell_type": "code",
   "execution_count": 2,
   "id": "ad84e334",
   "metadata": {},
   "outputs": [],
   "source": [
    "d = [28, 19, 18, 13, 19, 16, 19, 18, 13, 16, 16, 11, 11, 18, 15, 13, 15, 13, 11, 13, 10, 12]\n",
    "\n",
    "df = moving_average(d, extra_periods=4, n=3)"
   ]
  },
  {
   "cell_type": "code",
   "execution_count": 6,
   "id": "574a697d",
   "metadata": {},
   "outputs": [
    {
     "data": {
      "image/png": "[encoded data removed]",
      "text/plain": [
       "<Figure size 576x216 with 1 Axes>"
      ]
     },
     "metadata": {
      "needs_background": "light"
     },
     "output_type": "display_data"
    }
   ],
   "source": [
    "df[['Demand', 'Forecast']].plot(figsize=(8,3), title = 'Moving Average', ylim=(0,30), style=['-', '--'])\n",
    "df.index.name='Period'"
   ]
  },
  {
   "cell_type": "code",
   "execution_count": 22,
   "id": "abc1e2dc",
   "metadata": {},
   "outputs": [],
   "source": [
    "def kpi(df):\n",
    "    ''' Calculate BIAS ablolute and scaled\n",
    "        Calculate MAPE\n",
    "        MAE absolute and scaled\n",
    "        RMSE\n",
    "    '''\n",
    "    dem_ave = df.loc[df['Error'].notnull(), 'Demand'].mean()\n",
    "    bias_abs = df['Error'].mean()\n",
    "    bias_rel = bias_abs / dem_ave\n",
    "    print('Bias: {:0.2f}, {:.2%}'.format(bias_abs, bias_rel))\n",
    "    \n",
    "    MAPE = (df['Error'].abs()/df['Demand']).mean()\n",
    "    print('MAPE: {:.2%}'.format(MAPE))\n",
    "    \n",
    "    MAE_abs = df['Error'].abs().mean()\n",
    "    MAE_rel = MAE_abs / dem_ave\n",
    "    print('MAE: {:0.2f}, {:.2%}'.format(MAE_abs, MAE_rel))\n",
    "    \n",
    "    RMSE_abs = np.sqrt((df['Error']**2).mean())\n",
    "    RMSE_rel = RMSE_abs / dem_ave\n",
    "    print('RMSE: {:0.2f}, {:.2%}'.format(RMSE_abs, RMSE_rel))"
   ]
  },
  {
   "cell_type": "code",
   "execution_count": 23,
   "id": "1568a79b",
   "metadata": {},
   "outputs": [
    {
     "name": "stdout",
     "output_type": "stream",
     "text": [
      "Bias: 22.95, 15.33%\n",
      "MAPE: 29.31%\n",
      "MAE: 42.29, 28.24%\n",
      "RMSE: 43.20, 28.85%\n"
     ]
    }
   ],
   "source": [
    "d = [37, 60, 85, 112, 132, 145, 179, 198, 150, 132]\n",
    "df = moving_average(d, extra_periods=4, n=3)\n",
    "kpi(df)"
   ]
  },
  {
   "cell_type": "code",
   "execution_count": null,
   "id": "bbad9312",
   "metadata": {},
   "outputs": [],
   "source": []
  }
 ],
 "metadata": {
  "kernelspec": {
   "display_name": "Python 3",
   "language": "python",
   "name": "python3"
  },
  "language_info": {
   "codemirror_mode": {
    "name": "ipython",
    "version": 3
   },
   "file_extension": ".py",
   "mimetype": "text/x-python",
   "name": "python",
   "nbconvert_exporter": "python",
   "pygments_lexer": "ipython3",
   "version": "3.8.10"
  }
 },
 "nbformat": 4,
 "nbformat_minor": 5
}
