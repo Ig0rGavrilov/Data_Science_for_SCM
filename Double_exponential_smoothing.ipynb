{
 "cells": [
  {
   "cell_type": "code",
   "execution_count": 7,
   "id": "feec700d",
   "metadata": {},
   "outputs": [],
   "source": [
    "import numpy as np\n",
    "import pandas as pd\n",
    "\n",
    "def double_exp_smooth(d, extra_periods=1, alpha = 0.4, beta = 0.4):\n",
    "    \n",
    "    # Historical period length\n",
    "    cols = len(d)\n",
    "    \n",
    "    d = np.append(d, [np.nan]*extra_periods)\n",
    "    \n",
    "    # Create of the level, trend and forecast arrays\n",
    "    f, a, b = np.full((3, cols+extra_periods), np.nan)\n",
    "    \n",
    "    # Level and trend initialization\n",
    "    \n",
    "    a[0] = d[0]\n",
    "    b[0] = d[1] - d[0]\n",
    "    \n",
    "    # Create all the t+1 forecast\n",
    "    \n",
    "    for t in range(1, cols):\n",
    "        f[t] = a[t-1] + b[t-1]\n",
    "        a[t] = alpha*d[t] + (1-alpha)*(a[t-1] + b[t-1])\n",
    "        b[t] = beta*(a[t] - a[t-1]) + (1 - beta)*b[t-1]\n",
    "        \n",
    "    # Forecast for all extra periods\n",
    "    \n",
    "    for t in range(cols, cols+extra_periods):\n",
    "        f[t] = a[t-1] + b[t-1]\n",
    "        a[t] = f[t]\n",
    "        b[t] = b[t-1]\n",
    "    \n",
    "    df = pd.DataFrame.from_dict({'Demand':d, 'Forecast':f, 'Level':a, 'Trend':b, 'Error':d-f})\n",
    "    \n",
    "    return df"
   ]
  },
  {
   "cell_type": "code",
   "execution_count": 8,
   "id": "af1efbd4",
   "metadata": {},
   "outputs": [],
   "source": [
    "d = [28, 19, 18, 13, 19, 16, 19, 18, 13, 16, 16, 11, 11, 18, 15, 13, 15, 13, 11, 13, 10, 12]\n",
    "df = double_exp_smooth(d, extra_periods=4)"
   ]
  },
  {
   "cell_type": "code",
   "execution_count": 9,
   "id": "ad9745a1",
   "metadata": {},
   "outputs": [],
   "source": [
    "def kpi(df):\n",
    "    ''' Calculate BIAS ablolute and scaled\n",
    "        Calculate MAPE\n",
    "        MAE absolute and scaled\n",
    "        RMSE\n",
    "    '''\n",
    "    dem_ave = df.loc[df['Error'].notnull(), 'Demand'].mean()\n",
    "    bias_abs = df['Error'].mean()\n",
    "    bias_rel = bias_abs / dem_ave\n",
    "    print('Bias: {:0.2f}, {:.2%}'.format(bias_abs, bias_rel))\n",
    "    \n",
    "    MAPE = (df['Error'].abs()/df['Demand']).mean()\n",
    "    print('MAPE: {:.2%}'.format(MAPE))\n",
    "    \n",
    "    MAE_abs = df['Error'].abs().mean()\n",
    "    MAE_rel = MAE_abs / dem_ave\n",
    "    print('MAE: {:0.2f}, {:.2%}'.format(MAE_abs, MAE_rel))\n",
    "    \n",
    "    RMSE_abs = np.sqrt((df['Error']**2).mean())\n",
    "    RMSE_rel = RMSE_abs / dem_ave\n",
    "    print('RMSE: {:0.2f}, {:.2%}'.format(RMSE_abs, RMSE_rel))"
   ]
  },
  {
   "cell_type": "code",
   "execution_count": 10,
   "id": "4a7b6ab6",
   "metadata": {},
   "outputs": [
    {
     "name": "stdout",
     "output_type": "stream",
     "text": [
      "Bias: 2.52, 17.14%\n",
      "MAPE: 28.29%\n",
      "MAE: 4.36, 29.60%\n",
      "RMSE: 6.21, 42.19%\n"
     ]
    }
   ],
   "source": [
    "kpi(df)"
   ]
  },
  {
   "cell_type": "code",
   "execution_count": 11,
   "id": "a399a326",
   "metadata": {},
   "outputs": [
    {
     "data": {
      "text/plain": [
       "<matplotlib.axes._subplots.AxesSubplot at 0x22d1b46a070>"
      ]
     },
     "execution_count": 11,
     "metadata": {},
     "output_type": "execute_result"
    },
    {
     "data": {
      "image/png": "[encoded data removed]",
      "text/plain": [
       "<Figure size 576x216 with 1 Axes>"
      ]
     },
     "metadata": {
      "needs_background": "light"
     },
     "output_type": "display_data"
    }
   ],
   "source": [
    "df.index.name='Period'\n",
    "df[['Demand', 'Forecast']].plot(figsize=(8,3), title = 'Double Smoothing', ylim = (0,30), style = ['-', '--'])"
   ]
  },
  {
   "cell_type": "code",
   "execution_count": 13,
   "id": "f37e97bf",
   "metadata": {},
   "outputs": [
    {
     "data": {
      "text/html": [
       "<div>\n",
       "<style scoped>\n",
       "    .dataframe tbody tr th:only-of-type {\n",
       "        vertical-align: middle;\n",
       "    }\n",
       "\n",
       "    .dataframe tbody tr th {\n",
       "        vertical-align: top;\n",
       "    }\n",
       "\n",
       "    .dataframe thead th {\n",
       "        text-align: right;\n",
       "    }\n",
       "</style>\n",
       "<table border=\"1\" class=\"dataframe\">\n",
       "  <thead>\n",
       "    <tr style=\"text-align: right;\">\n",
       "      <th></th>\n",
       "      <th>Demand</th>\n",
       "      <th>Forecast</th>\n",
       "      <th>Level</th>\n",
       "      <th>Trend</th>\n",
       "      <th>Error</th>\n",
       "    </tr>\n",
       "    <tr>\n",
       "      <th>Period</th>\n",
       "      <th></th>\n",
       "      <th></th>\n",
       "      <th></th>\n",
       "      <th></th>\n",
       "      <th></th>\n",
       "    </tr>\n",
       "  </thead>\n",
       "  <tbody>\n",
       "    <tr>\n",
       "      <th>0</th>\n",
       "      <td>28.0</td>\n",
       "      <td>NaN</td>\n",
       "      <td>28.00000</td>\n",
       "      <td>-9.000000</td>\n",
       "      <td>NaN</td>\n",
       "    </tr>\n",
       "    <tr>\n",
       "      <th>1</th>\n",
       "      <td>19.0</td>\n",
       "      <td>19.0000</td>\n",
       "      <td>19.00000</td>\n",
       "      <td>-9.000000</td>\n",
       "      <td>0.0000</td>\n",
       "    </tr>\n",
       "    <tr>\n",
       "      <th>2</th>\n",
       "      <td>18.0</td>\n",
       "      <td>10.0000</td>\n",
       "      <td>13.20000</td>\n",
       "      <td>-7.720000</td>\n",
       "      <td>8.0000</td>\n",
       "    </tr>\n",
       "    <tr>\n",
       "      <th>3</th>\n",
       "      <td>13.0</td>\n",
       "      <td>5.4800</td>\n",
       "      <td>8.48800</td>\n",
       "      <td>-6.516800</td>\n",
       "      <td>7.5200</td>\n",
       "    </tr>\n",
       "    <tr>\n",
       "      <th>4</th>\n",
       "      <td>19.0</td>\n",
       "      <td>1.9712</td>\n",
       "      <td>8.78272</td>\n",
       "      <td>-3.792192</td>\n",
       "      <td>17.0288</td>\n",
       "    </tr>\n",
       "  </tbody>\n",
       "</table>\n",
       "</div>"
      ],
      "text/plain": [
       "        Demand  Forecast     Level     Trend    Error\n",
       "Period                                               \n",
       "0         28.0       NaN  28.00000 -9.000000      NaN\n",
       "1         19.0   19.0000  19.00000 -9.000000   0.0000\n",
       "2         18.0   10.0000  13.20000 -7.720000   8.0000\n",
       "3         13.0    5.4800   8.48800 -6.516800   7.5200\n",
       "4         19.0    1.9712   8.78272 -3.792192  17.0288"
      ]
     },
     "execution_count": 13,
     "metadata": {},
     "output_type": "execute_result"
    }
   ],
   "source": [
    "df.head()"
   ]
  },
  {
   "cell_type": "code",
   "execution_count": null,
   "id": "1136f7ac",
   "metadata": {},
   "outputs": [],
   "source": []
  }
 ],
 "metadata": {
  "kernelspec": {
   "display_name": "Python 3",
   "language": "python",
   "name": "python3"
  },
  "language_info": {
   "codemirror_mode": {
    "name": "ipython",
    "version": 3
   },
   "file_extension": ".py",
   "mimetype": "text/x-python",
   "name": "python",
   "nbconvert_exporter": "python",
   "pygments_lexer": "ipython3",
   "version": "3.8.10"
  }
 },
 "nbformat": 4,
 "nbformat_minor": 5
}
