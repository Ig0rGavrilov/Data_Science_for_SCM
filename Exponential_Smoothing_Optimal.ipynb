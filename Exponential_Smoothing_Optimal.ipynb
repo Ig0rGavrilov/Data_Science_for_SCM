{
 "cells": [
  {
   "cell_type": "code",
   "execution_count": 36,
   "id": "9cb84283",
   "metadata": {},
   "outputs": [],
   "source": [
    "import numpy as np\n",
    "import pandas as pd\n",
    "\n",
    "def simple_exp_smooth(d, extra_periods = 1, alpha=0.4):\n",
    "    \n",
    "    # Historical period lenght\n",
    "    cols = len(d)\n",
    "    \n",
    "    #Append np.nan into the demand array to cover future periods\n",
    "    d =np.append(d, [np.nan]*extra_periods)\n",
    "    \n",
    "    # Forecast arry\n",
    "    f = np.full(cols+extra_periods, np.nan)\n",
    "    \n",
    "    # Initialization of first forecast\n",
    "    f[1] = d[0]\n",
    "    \n",
    "    # Create all the t+1 forecast until end of historical period\n",
    "    for t in range(2, cols+1):\n",
    "        f[t] = alpha*d[t-1]+(1-alpha)*f[t-1]\n",
    "        \n",
    "    # Forecast for all extra periods\n",
    "    \n",
    "    for t in range(cols+1, cols+extra_periods):\n",
    "        \n",
    "        # Update the forecast as the previous forecast\n",
    "        f[t] = f[t-1]\n",
    "        \n",
    "    df = pd.DataFrame.from_dict({'Demand': d, 'Forecast': f, 'Error':d-f})\n",
    "    \n",
    "    return df"
   ]
  },
  {
   "cell_type": "code",
   "execution_count": 37,
   "id": "5b87d922",
   "metadata": {},
   "outputs": [],
   "source": [
    "\n",
    "\n",
    "def double_exp_smooth(d, extra_periods=1, alpha = 0.4, beta = 0.4):\n",
    "    \n",
    "    # Historical period length\n",
    "    cols = len(d)\n",
    "    \n",
    "    d = np.append(d, [np.nan]*extra_periods)\n",
    "    \n",
    "    # Create of the level, trend and forecast arrays\n",
    "    f, a, b = np.full((3, cols+extra_periods), np.nan)\n",
    "    \n",
    "    # Level and trend initialization\n",
    "    \n",
    "    a[0] = d[0]\n",
    "    b[0] = d[1] - d[0]\n",
    "    \n",
    "    # Create all the t+1 forecast\n",
    "    \n",
    "    for t in range(1, cols):\n",
    "        f[t] = a[t-1] + b[t-1]\n",
    "        a[t] = alpha*d[t] + (1-alpha)*(a[t-1] + b[t-1])\n",
    "        b[t] = beta*(a[t] - a[t-1]) + (1 - beta)*b[t-1]\n",
    "        \n",
    "    # Forecast for all extra periods\n",
    "    \n",
    "    for t in range(cols, cols+extra_periods):\n",
    "        f[t] = a[t-1] + b[t-1]\n",
    "        a[t] = f[t]\n",
    "        b[t] = b[t-1]\n",
    "    \n",
    "    df = pd.DataFrame.from_dict({'Demand':d, 'Forecast':f, 'Level':a, 'Trend':b, 'Error':d-f})\n",
    "    \n",
    "    return df"
   ]
  },
  {
   "cell_type": "code",
   "execution_count": null,
   "id": "11f4818b",
   "metadata": {},
   "outputs": [],
   "source": []
  },
  {
   "cell_type": "markdown",
   "id": "7ed00748",
   "metadata": {},
   "source": [
    "# Start Here"
   ]
  },
  {
   "cell_type": "code",
   "execution_count": 38,
   "id": "655978e7",
   "metadata": {},
   "outputs": [],
   "source": [
    "\n",
    "\n",
    "def exp_smooth_opti(d, extra_periods = 6):\n",
    "    params = []  # Conatains all the different parameter sets\n",
    "    KPIs = [] # Contains the result for each model\n",
    "    dfs = [] # Contains all the DataFrames returned by the different models\n",
    "    \n",
    "    for alpha in [0.05, 0.1, 0.2, 0.3, 0.4, 0.5, 0.6]:\n",
    "        \n",
    "        df = simple_exp_smooth(d, extra_periods=extra_periods, alpha=alpha)\n",
    "        params.append(f'Simple Smoothing, alpha: {alpha}')\n",
    "        dfs.append(df)\n",
    "        MAE = df['Error'].abs().mean()\n",
    "        KPIs.append(MAE)\n",
    "        \n",
    "        for beta in [0.05, 0.1, 0.2, 0.3, 0.4]:\n",
    "            df = double_exp_smooth(d, extra_periods=extra_periods, beta=beta)\n",
    "            params.append(f'Double Smoothing, alpha: {alpha}, beta: {beta}')\n",
    "            dfs.append(df)\n",
    "            MAE = df['Error'].abs().mean()\n",
    "            KPIs.append(MAE)\n",
    "        \n",
    "    mini = np.argmin(KPIs)\n",
    "    print(f'Best solution found for {params[mini]} MAE of', round(KPIs[mini],2))\n",
    "    return dfs[mini]"
   ]
  },
  {
   "cell_type": "code",
   "execution_count": 39,
   "id": "d2dc8b27",
   "metadata": {},
   "outputs": [
    {
     "name": "stdout",
     "output_type": "stream",
     "text": [
      "Best solution found for Simple Smoothing, alpha: 0.4 MAE of 2.77\n"
     ]
    }
   ],
   "source": [
    "d = [28, 19, 18, 13, 19, 16, 19, 18, 13, 16, 16, 11, 11, 18, 15, 13, 15, 13, 11, 13, 10, 12]\n",
    "df = exp_smooth_opti(d)"
   ]
  },
  {
   "cell_type": "code",
   "execution_count": 40,
   "id": "60e2ec34",
   "metadata": {},
   "outputs": [
    {
     "data": {
      "text/plain": [
       "<matplotlib.axes._subplots.AxesSubplot at 0x2195c494100>"
      ]
     },
     "execution_count": 40,
     "metadata": {},
     "output_type": "execute_result"
    },
    {
     "data": {
      "image/png": "[encoded data removed]",
      "text/plain": [
       "<Figure size 576x216 with 1 Axes>"
      ]
     },
     "metadata": {
      "needs_background": "light"
     },
     "output_type": "display_data"
    }
   ],
   "source": [
    "df[['Demand', 'Forecast']].plot(figsize = (8,3), title = 'DBest model found', ylim = (0,30), style =['-', '--'])"
   ]
  },
  {
   "cell_type": "code",
   "execution_count": null,
   "id": "dffac253",
   "metadata": {},
   "outputs": [],
   "source": []
  },
  {
   "cell_type": "code",
   "execution_count": null,
   "id": "87d95b3f",
   "metadata": {},
   "outputs": [],
   "source": []
  }
 ],
 "metadata": {
  "kernelspec": {
   "display_name": "Python 3",
   "language": "python",
   "name": "python3"
  },
  "language_info": {
   "codemirror_mode": {
    "name": "ipython",
    "version": 3
   },
   "file_extension": ".py",
   "mimetype": "text/x-python",
   "name": "python",
   "nbconvert_exporter": "python",
   "pygments_lexer": "ipython3",
   "version": "3.8.10"
  }
 },
 "nbformat": 4,
 "nbformat_minor": 5
}
