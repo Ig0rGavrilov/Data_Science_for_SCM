{
 "cells": [
  {
   "cell_type": "code",
   "execution_count": 9,
   "id": "19afcc94",
   "metadata": {},
   "outputs": [
    {
     "name": "stdout",
     "output_type": "stream",
     "text": [
      "[[0.67]\n",
      " [0.49]\n",
      " [0.47]\n",
      " [0.36]\n",
      " [0.49]\n",
      " [0.43]\n",
      " [0.49]\n",
      " [0.47]\n",
      " [0.36]\n",
      " [0.99]\n",
      " [0.43]\n",
      " [0.33]\n",
      " [0.47]\n",
      " [0.41]\n",
      " [0.36]\n",
      " [0.41]\n",
      " [0.36]\n",
      " [0.33]\n",
      " [0.36]\n",
      " [0.31]\n",
      " [0.35]]\n"
     ]
    }
   ],
   "source": [
    "import numpy as np\n",
    "import pandas as pd\n",
    "from scipy.stats import norm\n",
    "\n",
    "\n",
    "array = [28, 19, 18, 13, 19, 16, 19, 18, 13, 100, 16, 11, 18, 15, 13, 15, 13, 11, 13, 10, 12]\n",
    "\n",
    "df = pd.DataFrame(array)\n",
    "\n",
    "m = df.mean()\n",
    "s = df.std()\n",
    "limit_high = norm.ppf(0.99,m,s)\n",
    "limit_low = norm.ppf(0.01, m,s)\n",
    "df = df.clip(lower=limit_low, upper=limit_high, axis =1) \n",
    "\n",
    "print(norm.cdf(df.values, m, s).round(2))"
   ]
  },
  {
   "cell_type": "code",
   "execution_count": null,
   "id": "82ca1d58",
   "metadata": {},
   "outputs": [],
   "source": []
  }
 ],
 "metadata": {
  "kernelspec": {
   "display_name": "Python 3",
   "language": "python",
   "name": "python3"
  },
  "language_info": {
   "codemirror_mode": {
    "name": "ipython",
    "version": 3
   },
   "file_extension": ".py",
   "mimetype": "text/x-python",
   "name": "python",
   "nbconvert_exporter": "python",
   "pygments_lexer": "ipython3",
   "version": "3.8.10"
  }
 },
 "nbformat": 4,
 "nbformat_minor": 5
}
