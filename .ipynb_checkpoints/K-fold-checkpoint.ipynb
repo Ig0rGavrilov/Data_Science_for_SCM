{
 "cells": [
  {
   "cell_type": "code",
   "execution_count": 4,
   "id": "d77b5ca3",
   "metadata": {},
   "outputs": [],
   "source": [
    "import pandas as pd\n",
    "import numpy as np\n",
    "\n",
    "def import_data():\n",
    "    data = pd.read_csv('norway_new_car_sales_by_make.csv')\n",
    "    data['Period'] = data['Year'].astype(str) + '-' + data['Month'].astype(str).str.zfill(2)\n",
    "    df=pd.pivot_table(data=data, values='Quantity', index='Make', columns='Period', aggfunc='sum', fill_value=0)\n",
    "    return df"
   ]
  },
  {
   "cell_type": "code",
   "execution_count": 5,
   "id": "962d8ea8",
   "metadata": {},
   "outputs": [],
   "source": [
    "def datasets(df, x_len=12, y_len=1, test_loops=12):\n",
    "    \n",
    "    D = df.values\n",
    "    rows, periods = D.shape\n",
    "    \n",
    "    # Training set creation\n",
    "    loops = periods + 1 - x_len - y_len\n",
    "    train = []\n",
    "    \n",
    "    for col in range(loops):\n",
    "        train.append(D[:,col:col+x_len+y_len])\n",
    "    train = np.vstack(train)\n",
    "    X_train, Y_train = np.split(train,[-y_len], axis=1)\n",
    "    \n",
    "    # Test set creation\n",
    "    \n",
    "    if test_loops>0:\n",
    "        X_train, X_test = np.split(X_train, [-rows*test_loops], axis=0)\n",
    "        Y_train, Y_test = np.split(Y_train, [-rows*test_loops], axis=0)\n",
    "    else:  # No test set: X_test is ised to generate the future forecast\n",
    "        X_test = D[:,-x_len:]\n",
    "        Y_test = np.full((X_test.shape[0],y_len),np.nan)\n",
    "        \n",
    "    # Formatting required for scikit-learn\n",
    "    \n",
    "    if y_len == 1:\n",
    "        Y_train = Y_train.ravel()\n",
    "        Y_test = Y_test.ravel()\n",
    "        \n",
    "    return X_train, Y_train, X_test, Y_test\n",
    "         "
   ]
  },
  {
   "cell_type": "code",
   "execution_count": 6,
   "id": "66e3d990",
   "metadata": {},
   "outputs": [
    {
     "name": "stdout",
     "output_type": "stream",
     "text": [
      "Period        2007-01  2007-02  2007-03  2007-04  2007-05  2007-06  2007-07  \\\n",
      "Make                                                                          \n",
      "Alfa Romeo         16        9       21       20       17       21       14   \n",
      "Aston Martin        0        0        1        0        4        3        3   \n",
      "Audi              599      498      682      556      630      498      562   \n",
      "BMW               352      335      365      360      431      477      403   \n",
      "Bentley             0        0        0        0        0        1        0   \n",
      "...               ...      ...      ...      ...      ...      ...      ...   \n",
      "Think               2        0        0        1        0        0        0   \n",
      "Toyota           2884     1885     1833     1300     1866     1620     1901   \n",
      "Volkswagen       2521     1517     1428     1257     1934     1531     1777   \n",
      "Volvo             693      570      656      587      805      662     1064   \n",
      "Westfield           0        0        0        0        0        0        0   \n",
      "\n",
      "Period        2007-08  2007-09  2007-10  ...  2016-04  2016-05  2016-06  \\\n",
      "Make                                     ...                              \n",
      "Alfa Romeo         12       15       10  ...        3        1        2   \n",
      "Aston Martin        0        0        0  ...        0        0        1   \n",
      "Audi              590      393      554  ...      685      540      551   \n",
      "BMW               348      271      562  ...     1052      832      808   \n",
      "Bentley             0        0        0  ...        0        0        1   \n",
      "...               ...      ...      ...  ...      ...      ...      ...   \n",
      "Think               1        0        0  ...        0        0        0   \n",
      "Toyota           1783     1303     1648  ...     1432     1687     1603   \n",
      "Volkswagen       1665     1373     1941  ...     3017     2222     2287   \n",
      "Volvo             498      662     1014  ...      748      619      766   \n",
      "Westfield           0        0        0  ...        0        0        0   \n",
      "\n",
      "Period        2016-07  2016-08  2016-09  2016-10  2016-11  2016-12  2017-01  \n",
      "Make                                                                         \n",
      "Alfa Romeo          1        6       15        3        4        3        6  \n",
      "Aston Martin        0        0        0        0        0        0        0  \n",
      "Audi              687      794      688      603      645      827      565  \n",
      "BMW               636     1031     1193     1096     1663      866     1540  \n",
      "Bentley             1        1        0        0        0        0        0  \n",
      "...               ...      ...      ...      ...      ...      ...      ...  \n",
      "Think               0        0        0        0        0        0        0  \n",
      "Toyota           1127     1824     1823     1327     1375     1238     1526  \n",
      "Volkswagen       2076     2359     2084     2161     2106     2239     1688  \n",
      "Volvo             635      463      763      732      754     1235     1158  \n",
      "Westfield           0        0        0        0        0        0        0  \n",
      "\n",
      "[65 rows x 121 columns]\n"
     ]
    }
   ],
   "source": [
    "df = import_data()\n",
    "X_train, Y_train, X_test, Y_test = datasets(df, x_len=12, y_len=1, test_loops=12)\n",
    "df.to_excel('demand.xlsx', index=False)\n",
    "print(df)"
   ]
  },
  {
   "cell_type": "code",
   "execution_count": 7,
   "id": "ef53a98d",
   "metadata": {},
   "outputs": [
    {
     "data": {
      "text/plain": [
       "DecisionTreeRegressor(max_depth=5, min_samples_leaf=5, min_samples_split=15)"
      ]
     },
     "execution_count": 7,
     "metadata": {},
     "output_type": "execute_result"
    }
   ],
   "source": [
    "from sklearn.tree import DecisionTreeRegressor\n",
    "\n",
    "# Instantiate a Decision Tree Regressor\n",
    "\n",
    "tree = DecisionTreeRegressor(max_depth=5, min_samples_split=15, min_samples_leaf=5)\n",
    "\n",
    "# Fit the tree to the training data\n",
    "\n",
    "tree.fit(X_train, Y_train)"
   ]
  },
  {
   "cell_type": "code",
   "execution_count": 8,
   "id": "9ee7c6cf",
   "metadata": {},
   "outputs": [],
   "source": [
    "max_depth = list(range(5,11)) + [None]\n",
    "min_samples_split = range(5,20)\n",
    "min_samples_leaf = range(2,20)\n",
    "params_dist = {'max_depth': max_depth, 'min_samples_split': min_samples_split, 'min_samples_leaf': min_samples_leaf}"
   ]
  },
  {
   "cell_type": "code",
   "execution_count": 11,
   "id": "e435993e",
   "metadata": {},
   "outputs": [],
   "source": [
    "def kpi_ML(Y_train, Y_train_pred, Y_test, Y_test_pred, name=''):\n",
    "    df = pd.DataFrame(columns=['MAE', 'RMSE', 'Bias'], index = ['Train', 'Test'])\n",
    "    df.index.name=name\n",
    "    df.loc['Train', 'MAE'] = 100*np.mean(abs(Y_train-Y_train_pred))/np.mean(Y_train)\n",
    "    df.loc['Train', 'RMSE'] = 100*np.sqrt(np.mean((Y_train-Y_train_pred)**2))/np.mean(Y_train)\n",
    "    df.loc['Train', 'Bias'] = 100*np.mean((Y_train-Y_train_pred))/np.mean(Y_train)\n",
    "    df.loc['Test', 'MAE'] = 100*np.mean(abs(Y_test-Y_test_pred))/np.mean(Y_test)\n",
    "    df.loc['Test', 'RMSE'] = 100*np.sqrt(np.mean((Y_test-Y_test_pred)**2))/np.mean(Y_test)\n",
    "    df.loc['Test', 'Bias'] = 100*np.mean((Y_test-Y_test_pred))/np.mean(Y_test)\n",
    "    print(df)"
   ]
  },
  {
   "cell_type": "markdown",
   "id": "2aff91e0",
   "metadata": {},
   "source": [
    "# For testing different parameters and return a best"
   ]
  },
  {
   "cell_type": "code",
   "execution_count": 21,
   "id": "0b4242a2",
   "metadata": {},
   "outputs": [
    {
     "name": "stdout",
     "output_type": "stream",
     "text": [
      "Fitting 10 folds for each of 1000 candidates, totalling 10000 fits\n",
      "Tuned Regression Tree Parameter {'min_samples_split': 15, 'min_samples_leaf': 18, 'max_depth': 7}\n"
     ]
    }
   ],
   "source": [
    "from sklearn.model_selection import RandomizedSearchCV\n",
    "tree = DecisionTreeRegressor()\n",
    "tree_cv = RandomizedSearchCV(tree, params_dist, n_jobs =-1, cv=10, verbose=1, n_iter=100, scoring='neg_mean_absolute_error')\n",
    "\"cv is a number of folds\"\n",
    "\n",
    "tree_cv.fit(X_train, Y_train)\n",
    "print('Tuned Regression Tree Parameter', tree_cv.best_params_)"
   ]
  },
  {
   "cell_type": "code",
   "execution_count": 22,
   "id": "37bc6a2e",
   "metadata": {},
   "outputs": [
    {
     "name": "stdout",
     "output_type": "stream",
     "text": [
      "             MAE       RMSE      Bias\n",
      "Tree                                 \n",
      "Train  16.799632  41.369892       0.0\n",
      "Test   18.128781  45.516976  3.086413\n"
     ]
    }
   ],
   "source": [
    "Y_train_pred = tree_cv.predict(X_train)\n",
    "Y_test_pred = tree_cv.predict(X_test)\n",
    "kpi_ML(Y_train, Y_train_pred, Y_test, Y_test_pred, name='Tree')"
   ]
  },
  {
   "cell_type": "code",
   "execution_count": 19,
   "id": "6d79b3a2",
   "metadata": {},
   "outputs": [],
   "source": [
    "df = pd.DataFrame(tree_cv.cv_results_)\n"
   ]
  },
  {
   "cell_type": "code",
   "execution_count": 20,
   "id": "f25e24e7",
   "metadata": {},
   "outputs": [],
   "source": [
    "df_params = pd.DataFrame(df['params'].values.tolist())\n",
    "df = pd.concat([df_params,df], axis=1)\n",
    "df.to_excel('Result.xlsx')"
   ]
  },
  {
   "cell_type": "code",
   "execution_count": null,
   "id": "46708466",
   "metadata": {},
   "outputs": [],
   "source": []
  }
 ],
 "metadata": {
  "kernelspec": {
   "display_name": "Python 3",
   "language": "python",
   "name": "python3"
  },
  "language_info": {
   "codemirror_mode": {
    "name": "ipython",
    "version": 3
   },
   "file_extension": ".py",
   "mimetype": "text/x-python",
   "name": "python",
   "nbconvert_exporter": "python",
   "pygments_lexer": "ipython3",
   "version": "3.8.10"
  }
 },
 "nbformat": 4,
 "nbformat_minor": 5
}
