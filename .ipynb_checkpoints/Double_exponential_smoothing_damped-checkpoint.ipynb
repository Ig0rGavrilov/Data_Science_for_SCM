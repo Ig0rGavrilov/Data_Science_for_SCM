{
 "cells": [
  {
   "cell_type": "code",
   "execution_count": 1,
   "id": "d3d07343",
   "metadata": {},
   "outputs": [],
   "source": [
    "import numpy as np\n",
    "\n",
    "def kpi(df):\n",
    "    ''' Calculate BIAS ablolute and scaled\n",
    "        Calculate MAPE\n",
    "        MAE absolute and scaled\n",
    "        RMSE\n",
    "    '''\n",
    "    dem_ave = df.loc[df['Error'].notnull(), 'Demand'].mean()\n",
    "    bias_abs = df['Error'].mean()\n",
    "    bias_rel = bias_abs / dem_ave\n",
    "    print('Bias: {:0.2f}, {:.2%}'.format(bias_abs, bias_rel))\n",
    "    \n",
    "    MAPE = (df['Error'].abs()/df['Demand']).mean()\n",
    "    print('MAPE: {:.2%}'.format(MAPE))\n",
    "    \n",
    "    MAE_abs = df['Error'].abs().mean()\n",
    "    MAE_rel = MAE_abs / dem_ave\n",
    "    print('MAE: {:0.2f}, {:.2%}'.format(MAE_abs, MAE_rel))\n",
    "    \n",
    "    RMSE_abs = np.sqrt((df['Error']**2).mean())\n",
    "    RMSE_rel = RMSE_abs / dem_ave\n",
    "    print('RMSE: {:0.2f}, {:.2%}'.format(RMSE_abs, RMSE_rel))"
   ]
  },
  {
   "cell_type": "code",
   "execution_count": 21,
   "id": "35d46e20",
   "metadata": {},
   "outputs": [],
   "source": [
    "import numpy as np\n",
    "import pandas as pd\n",
    "\n",
    "def double_exp_smooth_damped(d, extra_periods=1, alpha=0.4, beta=0.4, phi=0.9):\n",
    "    \n",
    "    cols = len(d)\n",
    "    d = np.append(d, [np.nan]*extra_periods)\n",
    "    f,a,b = np.full((3, cols+extra_periods), np.nan)\n",
    "    a[0] = d[0]\n",
    "    b[0] = d[1] - d[0]\n",
    "    \n",
    "    for t in range(1,cols):\n",
    "        f[t] = a[t-1] + phi*b[t-1]\n",
    "        a[t] = alpha*d[t] + (1-alpha)*(a[t-1]+phi*b[t-1])\n",
    "        b[t] = beta*(a[t]-a[t-1]) + (1-beta)*phi*b[t-1]\n",
    "        \n",
    "    for t in range(cols, cols+extra_periods):\n",
    "        f[t] = a[t-1] + phi*b[t-1]\n",
    "        a[t] = f[t]\n",
    "        b[t] = phi*b[t-1]\n",
    "            \n",
    "    df = pd.DataFrame.from_dict({'Demand':d, 'Forecast':f, 'Level':a, 'Trend':b, 'Error':d-f})\n",
    "    return df"
   ]
  },
  {
   "cell_type": "code",
   "execution_count": 24,
   "id": "fcd874da",
   "metadata": {},
   "outputs": [
    {
     "name": "stdout",
     "output_type": "stream",
     "text": [
      "Bias: 1.64, 11.02%\n",
      "MAPE: 22.75%\n",
      "MAE: 3.48, 23.38%\n",
      "RMSE: 4.72, 31.68%\n",
      "    Demand   Forecast      Level     Trend      Error\n",
      "0     28.0        NaN  28.000000 -9.000000        NaN\n",
      "1     19.0  19.900000  19.540000 -8.244000  -0.900000\n",
      "2     18.0  12.120400  14.472240 -6.478864   5.879600\n",
      "3     13.0   8.641262  10.384757 -5.133580   4.358738\n",
      "4     19.0   5.764536  11.058721 -2.502547  13.235464\n",
      "5     16.0   8.806429  11.683857 -1.101321   7.193571\n",
      "6     19.0  10.692668  14.015601  0.337984   8.307332\n",
      "7     18.0  14.319786  15.791872  0.893020   3.680214\n",
      "8     13.0  16.595590  15.157354  0.228423  -3.595590\n",
      "9     16.0  15.362935  15.617761  0.307511   0.637065\n",
      "10    16.0  15.894521  15.936713  0.293637   0.105479\n",
      "11    11.0  16.200986  14.120592 -0.567885  -5.200986\n",
      "12    18.0  13.609496  15.365697  0.191385   4.390504\n",
      "13    15.0  15.537944  15.322766  0.086175  -0.537944\n",
      "14    13.0  15.400324  14.440194 -0.306494  -2.400324\n",
      "15    15.0  14.164350  14.498610 -0.142141   0.835650\n",
      "16    13.0  14.370683  13.822410 -0.347236  -1.370683\n",
      "17    11.0  13.509898  12.505939 -0.714096  -2.509898\n",
      "18    13.0  11.863252  12.317951 -0.460807   1.136748\n",
      "19    10.0  11.903225  11.141935 -0.719242  -1.903225\n",
      "20    12.0  10.494617  11.096770 -0.406457   1.505383\n",
      "21     NaN  10.730959  10.730959 -0.365811        NaN\n",
      "22     NaN  10.401730  10.401730 -0.329230        NaN\n",
      "23     NaN  10.105423  10.105423 -0.296307        NaN\n",
      "24     NaN   9.838746   9.838746 -0.266676        NaN\n"
     ]
    }
   ],
   "source": [
    "d = [28, 19, 18, 13, 19, 16, 19, 18, 13, 16, 16, 11, 18, 15, 13, 15, 13, 11, 13, 10, 12]\n",
    "df=double_exp_smooth_damped(d, extra_periods=4)\n",
    "kpi(df)\n",
    "print(df)"
   ]
  },
  {
   "cell_type": "code",
   "execution_count": 23,
   "id": "c622b9cc",
   "metadata": {},
   "outputs": [
    {
     "data": {
      "text/plain": [
       "<matplotlib.axes._subplots.AxesSubplot at 0x17f39971b20>"
      ]
     },
     "execution_count": 23,
     "metadata": {},
     "output_type": "execute_result"
    },
    {
     "data": {
      "image/png": "[encoded data removed]",
      "text/plain": [
       "<Figure size 576x216 with 1 Axes>"
      ]
     },
     "metadata": {
      "needs_background": "light"
     },
     "output_type": "display_data"
    }
   ],
   "source": [
    "df.index.name='Period'\n",
    "df[['Demand', 'Forecast']].plot(figsize=(8,3), title = 'Double Smoothing, Damped', ylim = (0,30), style = ['-', '--'])"
   ]
  },
  {
   "cell_type": "code",
   "execution_count": 30,
   "id": "5761d709",
   "metadata": {},
   "outputs": [
    {
     "name": "stdout",
     "output_type": "stream",
     "text": [
      "    Demand  Forecast  Level  Trend  Error\n",
      "0     37.0       NaN   37.0   23.0    NaN\n",
      "1     60.0      55.0   57.0   19.0    5.0\n",
      "2     85.0      72.0   76.0   17.0   13.0\n",
      "3    112.0      89.0   96.0   16.0   23.0\n",
      "4    132.0     109.0  116.0   16.0   23.0\n",
      "5    145.0     128.0  133.0   15.0   17.0\n",
      "6    179.0     145.0  155.0   16.0   34.0\n",
      "7    198.0     168.0  177.0   16.0   30.0\n",
      "8    150.0     190.0  178.0    8.0  -40.0\n",
      "9    132.0     184.0  169.0    0.0  -52.0\n",
      "10     NaN     169.0  169.0    0.0    NaN\n",
      "11     NaN     169.0  169.0    0.0    NaN\n",
      "12     NaN     169.0  169.0    0.0    NaN\n"
     ]
    }
   ],
   "source": [
    "d = [37,60,85,112,132,145,179,198,150,132]\n",
    "df=double_exp_smooth_damped(d, extra_periods=3, alpha=0.3, beta=0.4, phi=0.8)\n",
    "print(round(df,0))"
   ]
  },
  {
   "cell_type": "code",
   "execution_count": null,
   "id": "9effe4cc",
   "metadata": {},
   "outputs": [],
   "source": []
  },
  {
   "cell_type": "code",
   "execution_count": null,
   "id": "0d414ba5",
   "metadata": {},
   "outputs": [],
   "source": []
  }
 ],
 "metadata": {
  "kernelspec": {
   "display_name": "Python 3",
   "language": "python",
   "name": "python3"
  },
  "language_info": {
   "codemirror_mode": {
    "name": "ipython",
    "version": 3
   },
   "file_extension": ".py",
   "mimetype": "text/x-python",
   "name": "python",
   "nbconvert_exporter": "python",
   "pygments_lexer": "ipython3",
   "version": "3.8.10"
  }
 },
 "nbformat": 4,
 "nbformat_minor": 5
}
