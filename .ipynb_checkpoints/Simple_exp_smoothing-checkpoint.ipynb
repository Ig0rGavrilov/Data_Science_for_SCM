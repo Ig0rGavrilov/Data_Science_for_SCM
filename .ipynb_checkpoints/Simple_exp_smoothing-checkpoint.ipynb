{
 "cells": [
  {
   "cell_type": "code",
   "execution_count": 7,
   "id": "9b476aba",
   "metadata": {},
   "outputs": [],
   "source": [
    "import numpy as np\n",
    "import pandas as pd\n",
    "import matplotlib.pyplot as plt\n",
    "\n",
    "def simple_exp_smooth(d, extra_periods = 1, alpha=0.4):\n",
    "    \n",
    "    # Historical period lenght\n",
    "    cols = len(d)\n",
    "    \n",
    "    #Append np.nan into the demand array to cover future periods\n",
    "    d =np.append(d, [np.nan]*extra_periods)\n",
    "    \n",
    "    # Forecast arry\n",
    "    f = np.full(cols+extra_periods, np.nan)\n",
    "    \n",
    "    # Initialization of first forecast\n",
    "    f[1] = d[0]\n",
    "    \n",
    "    # Create all the t+1 forecast until end of historical period\n",
    "    for t in range(2, cols+1):\n",
    "        f[t] = alpha*d[t-1]+(1-alpha)*f[t-1]\n",
    "        \n",
    "    # Forecast for all extra periods\n",
    "    \n",
    "    for t in range(cols+1, cols+extra_periods):\n",
    "        \n",
    "        # Update the forecast as the previous forecast\n",
    "        f[t] = f[t-1]\n",
    "        \n",
    "    df = pd.DataFrame.from_dict({'Demand': d, 'Forecast': f, 'Error':d-f})\n",
    "    \n",
    "    return df"
   ]
  },
  {
   "cell_type": "code",
   "execution_count": 8,
   "id": "e0b7994e",
   "metadata": {},
   "outputs": [],
   "source": [
    "d = [28, 19, 18, 13, 19, 16, 19, 18, 13, 16, 16, 11, 11, 18, 15, 13, 15, 13, 11, 13, 10, 12]\n",
    "df = simple_exp_smooth(d, extra_periods=4)"
   ]
  },
  {
   "cell_type": "code",
   "execution_count": 9,
   "id": "5020a348",
   "metadata": {},
   "outputs": [],
   "source": [
    "def kpi(df):\n",
    "    ''' Calculate BIAS ablolute and scaled\n",
    "        Calculate MAPE\n",
    "        MAE absolute and scaled\n",
    "        RMSE\n",
    "    '''\n",
    "    dem_ave = df.loc[df['Error'].notnull(), 'Demand'].mean()\n",
    "    bias_abs = df['Error'].mean()\n",
    "    bias_rel = bias_abs / dem_ave\n",
    "    print('Bias: {:0.2f}, {:.2%}'.format(bias_abs, bias_rel))\n",
    "    \n",
    "    MAPE = (df['Error'].abs()/df['Demand']).mean()\n",
    "    print('MAPE: {:.2%}'.format(MAPE))\n",
    "    \n",
    "    MAE_abs = df['Error'].abs().mean()\n",
    "    MAE_rel = MAE_abs / dem_ave\n",
    "    print('MAE: {:0.2f}, {:.2%}'.format(MAE_abs, MAE_rel))\n",
    "    \n",
    "    RMSE_abs = np.sqrt((df['Error']**2).mean())\n",
    "    RMSE_rel = RMSE_abs / dem_ave\n",
    "    print('RMSE: {:0.2f}, {:.2%}'.format(RMSE_abs, RMSE_rel))"
   ]
  },
  {
   "cell_type": "code",
   "execution_count": 10,
   "id": "e6a7f5a3",
   "metadata": {},
   "outputs": [
    {
     "name": "stdout",
     "output_type": "stream",
     "text": [
      "Bias: -1.93, -13.09%\n",
      "MAPE: 19.64%\n",
      "MAE: 2.77, 18.82%\n",
      "RMSE: 3.90, 26.52%\n"
     ]
    }
   ],
   "source": [
    "kpi(df)"
   ]
  },
  {
   "cell_type": "code",
   "execution_count": 12,
   "id": "4be31c8e",
   "metadata": {},
   "outputs": [
    {
     "data": {
      "text/plain": [
       "<matplotlib.axes._subplots.AxesSubplot at 0x22ecc474a60>"
      ]
     },
     "execution_count": 12,
     "metadata": {},
     "output_type": "execute_result"
    },
    {
     "data": {
      "image/png": "[encoded data removed]",
      "text/plain": [
       "<Figure size 576x216 with 1 Axes>"
      ]
     },
     "metadata": {
      "needs_background": "light"
     },
     "output_type": "display_data"
    }
   ],
   "source": [
    "df.index.name = 'Period'\n",
    "df[['Demand', 'Forecast']].plot(figsize=(8,3), title = 'Simple Smoothing', ylim=(0,30), style = ['-', '--'])"
   ]
  },
  {
   "cell_type": "code",
   "execution_count": null,
   "id": "ac9a1acf",
   "metadata": {},
   "outputs": [],
   "source": []
  }
 ],
 "metadata": {
  "kernelspec": {
   "display_name": "Python 3",
   "language": "python",
   "name": "python3"
  },
  "language_info": {
   "codemirror_mode": {
    "name": "ipython",
    "version": 3
   },
   "file_extension": ".py",
   "mimetype": "text/x-python",
   "name": "python",
   "nbconvert_exporter": "python",
   "pygments_lexer": "ipython3",
   "version": "3.8.10"
  }
 },
 "nbformat": 4,
 "nbformat_minor": 5
}
